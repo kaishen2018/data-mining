{
 "cells": [
  {
   "cell_type": "code",
   "execution_count": 10,
   "metadata": {},
   "outputs": [
    {
     "name": "stdout",
     "output_type": "stream",
     "text": [
      "[[ 0  1  2  3  4]\n",
      " [ 5  6  7  8  9]\n",
      " [10 11 12 13 14]]\n",
      "2\n",
      "int64\n",
      "8\n"
     ]
    }
   ],
   "source": [
    "import numpy as np\n",
    "\n",
    "a=np.arange(15).reshape(3,5)\n",
    "\n",
    "print(a)\n",
    "\n",
    "print(a.ndim)\n",
    "\n",
    "print(a.dtype)\n",
    "\n",
    "print(a.itemsize)\n",
    "\n"
   ]
  },
  {
   "cell_type": "code",
   "execution_count": 1,
   "metadata": {},
   "outputs": [
    {
     "name": "stdout",
     "output_type": "stream",
     "text": [
      "[2 3 4 5]\n",
      "[[0. 0. 0. 0.]\n",
      " [0. 0. 0. 0.]\n",
      " [0. 0. 0. 0.]]\n",
      "[[[1 1 1 1]\n",
      "  [1 1 1 1]\n",
      "  [1 1 1 1]]\n",
      "\n",
      " [[1 1 1 1]\n",
      "  [1 1 1 1]\n",
      "  [1 1 1 1]]]\n"
     ]
    },
    {
     "data": {
      "text/plain": [
       "array([0.  , 0.25, 0.5 , 0.75, 1.  , 1.25, 1.5 , 1.75, 2.  ])"
      ]
     },
     "execution_count": 1,
     "metadata": {},
     "output_type": "execute_result"
    }
   ],
   "source": [
    "# array\n",
    "import numpy as np\n",
    "\n",
    "a = np.array([2,3,4,5])\n",
    "print(a)\n",
    "\n",
    "b = np.array([(1.5,2,3), (4,5,6)])\n",
    "b\n",
    "\n",
    "c = np.array( [ [1,2], [3,4] ], dtype=complex )\n",
    "c\n",
    "\n",
    "print(np.zeros( (3,4) ))\n",
    "\n",
    "print(np.ones( (2,3,4), dtype=np.int16 ) )   \n",
    "\n",
    "# 使用 arange + 步长\n",
    "np.arange( 10, 30, 5 )\n",
    "\n",
    "# 使用 linespace 来指定数量\n",
    "np.linspace( 0, 2, 9 ) \n"
   ]
  },
  {
   "cell_type": "code",
   "execution_count": 5,
   "metadata": {},
   "outputs": [
    {
     "data": {
      "text/plain": [
       "array([[[  0,   1,   4,   9],\n",
       "        [ 16,  25,  36,  49],\n",
       "        [ 64,  81, 100, 121]],\n",
       "\n",
       "       [[144, 169, 196, 225],\n",
       "        [256, 289, 324, 361],\n",
       "        [400, 441, 484, 529]]])"
      ]
     },
     "execution_count": 5,
     "metadata": {},
     "output_type": "execute_result"
    }
   ],
   "source": [
    "# array\n",
    "import numpy as np\n",
    "\n",
    "a = np.arange(24)**2\n",
    "\n",
    "a.reshape(2,3,4)\n"
   ]
  },
  {
   "cell_type": "code",
   "execution_count": 12,
   "metadata": {},
   "outputs": [
    {
     "data": {
      "text/plain": [
       "array([[ 0,  1,  2,  3],\n",
       "       [ 4,  5,  6,  7],\n",
       "       [ 8,  9, 10, 11]])"
      ]
     },
     "execution_count": 12,
     "metadata": {},
     "output_type": "execute_result"
    }
   ],
   "source": [
    "#基本操作\n",
    "#数组上的算术运算符会应用到 元素 级别。下面是创建一个新数组并填充结果的示例：##\n",
    "# array\n",
    "import numpy as np\n",
    "\n",
    "a = np.arange(12).reshape(3,4)\n",
    "\n",
    "a\n"
   ]
  },
  {
   "cell_type": "code",
   "execution_count": 20,
   "metadata": {},
   "outputs": [
    {
     "name": "stdout",
     "output_type": "stream",
     "text": [
      "[12 15 18 21]\n",
      "[0 4 8]\n",
      "[ 3  7 11]\n",
      "[[ 0  1  3  6]\n",
      " [ 4  9 15 22]\n",
      " [ 8 17 27 38]]\n"
     ]
    }
   ],
   "source": [
    "print(a.sum(axis=0))\n",
    "\n",
    "print(a.min(axis=1))\n",
    "\n",
    "\n",
    "print(a.max(axis=1))\n",
    "\n",
    "print(a.cumsum(axis=1))\n"
   ]
  },
  {
   "cell_type": "code",
   "execution_count": 28,
   "metadata": {},
   "outputs": [
    {
     "name": "stdout",
     "output_type": "stream",
     "text": [
      "[0 1 2]\n",
      "[1.         2.71828183 7.3890561 ]\n",
      "[0.         1.         1.41421356]\n",
      "[1.         3.71828183 8.80326966]\n"
     ]
    }
   ],
   "source": [
    "## 通函数\n",
    "# NumPy提供熟悉的数学函数，例如sin，cos和exp。在NumPy中，这些被称为“通函数”（ufunc）。在NumPy中，这些函数在数组上按元素进行运算，产生一个数组作为输出。\n",
    "import numpy as np\n",
    "b=np.arange(3)\n",
    "print(b)\n",
    "\n",
    "c=np.exp(b)\n",
    "print(c)\n",
    "\n",
    "d=np.sqrt(b)\n",
    "print(d)\n",
    "\n",
    "e=np.add(c,d)\n",
    "print(e)\n",
    "\n"
   ]
  },
  {
   "cell_type": "code",
   "execution_count": 42,
   "metadata": {},
   "outputs": [
    {
     "name": "stdout",
     "output_type": "stream",
     "text": [
      "[  0   1   8  27  64 125 216 343 512 729]\n",
      "[ 27  64 125]\n",
      "[[ 0  1  2  3]\n",
      " [10 11 12 13]\n",
      " [20 21 22 23]\n",
      " [30 31 32 33]\n",
      " [40 41 42 43]]\n",
      "============================\n",
      "[0 1 2 3]\n",
      "[10 11 12 13]\n",
      "[20 21 22 23]\n",
      "[30 31 32 33]\n",
      "[40 41 42 43]\n",
      "============================\n",
      "0\n",
      "1\n",
      "2\n",
      "3\n",
      "10\n",
      "11\n",
      "12\n",
      "13\n",
      "20\n",
      "21\n",
      "22\n",
      "23\n",
      "30\n",
      "31\n",
      "32\n",
      "33\n",
      "40\n",
      "41\n",
      "42\n",
      "43\n"
     ]
    }
   ],
   "source": [
    "# 索引、切片和迭代\n",
    "# 一维的数组可以进行索引、切片和迭代操作的，就像 列表 和其他Python序列类型一样。\n",
    "import numpy as np\n",
    "a = np.arange(10)**3\n",
    "print(a)\n",
    "\n",
    "print(a[3:6])\n",
    "\n",
    "\n",
    "def f(x,y):\n",
    "    return 10*x+y\n",
    "\n",
    "b = np.fromfunction(f,(5,4),dtype=int)\n",
    "print(b)\n",
    "\n",
    "print('============================')\n",
    "for row in b:\n",
    "    print(row)\n",
    "    \n",
    "\n",
    "\n",
    "print('============================')\n",
    "for element in b.flat:\n",
    "    print(element)    \n"
   ]
  },
  {
   "cell_type": "code",
   "execution_count": 46,
   "metadata": {},
   "outputs": [
    {
     "name": "stdout",
     "output_type": "stream",
     "text": [
      "[[2. 7. 4. 9.]\n",
      " [2. 7. 7. 3.]\n",
      " [5. 1. 8. 9.]]\n",
      "[[2. 7.]\n",
      " [4. 9.]\n",
      " [2. 7.]\n",
      " [7. 3.]\n",
      " [5. 1.]\n",
      " [8. 9.]]\n",
      "[2. 7. 4. 9. 2. 7. 7. 3. 5. 1. 8. 9.]\n"
     ]
    }
   ],
   "source": [
    "## 改变数组的形状\n",
    "# 一个数组的形状是由每个轴的元素数量决定的：\n",
    "\n",
    "a = np.floor(10*np.random.random((3,4)))\n",
    "print(a)\n",
    "\n",
    "print(a.reshape(6,2))\n",
    "print(a.ravel())"
   ]
  },
  {
   "cell_type": "code",
   "execution_count": 5,
   "metadata": {},
   "outputs": [
    {
     "name": "stdout",
     "output_type": "stream",
     "text": [
      "[  0   1   4   9  16  25  36  49  64  81 100 121]\n",
      "[1 1 3 8 5]\n",
      "[ 1  1  9 64 25]\n"
     ]
    }
   ],
   "source": [
    "import numpy as np\n",
    "\n",
    "a = np.arange(12)**2 \n",
    "print(a)\n",
    "b = np.array( [ 1,1,3,8,5 ] )  \n",
    "print(b)\n",
    "\n",
    "print(a[b])\n"
   ]
  },
  {
   "cell_type": "code",
   "execution_count": 5,
   "metadata": {},
   "outputs": [
    {
     "data": {
      "image/png": "[encoded data removed]",
      "text/plain": [
       "<Figure size 432x288 with 1 Axes>"
      ]
     },
     "metadata": {
      "needs_background": "light"
     },
     "output_type": "display_data"
    },
    {
     "name": "stdout",
     "output_type": "stream",
     "text": [
      "[0.00132827 0.00132827 0.0039848  0.00265653 0.0039848  0.00531307\n",
      " 0.00664133 0.0159392  0.02656533 0.03320667 0.04516107 0.0557872\n",
      " 0.08633734 0.14876588 0.20322481 0.21783575 0.29753175 0.39715176\n",
      " 0.37589949 0.42903016 0.57381123 0.6149875  0.66147684 0.77570778\n",
      " 0.81821231 0.83149498 0.75047071 0.80094485 0.77172298 0.64022457\n",
      " 0.60436137 0.5990483  0.47419123 0.41973229 0.36128855 0.28690562\n",
      " 0.24705761 0.19924001 0.15275068 0.10626134 0.07438294 0.04516107\n",
      " 0.04914587 0.01859573 0.0159392  0.01461093 0.00531307 0.0039848\n",
      " 0.00265653 0.00531307]\n",
      "[0.03539712 0.1106832  0.18596928 0.26125537 0.33654145 0.41182753\n",
      " 0.48711362 0.5623997  0.63768578 0.71297186 0.78825795 0.86354403\n",
      " 0.93883011 1.01411619 1.08940228 1.16468836 1.23997444 1.31526053\n",
      " 1.39054661 1.46583269 1.54111877 1.61640486 1.69169094 1.76697702\n",
      " 1.8422631  1.91754919 1.99283527 2.06812135 2.14340744 2.21869352\n",
      " 2.2939796  2.36926568 2.44455177 2.51983785 2.59512393 2.67041001\n",
      " 2.7456961  2.82098218 2.89626826 2.97155435 3.04684043 3.12212651\n",
      " 3.19741259 3.27269868 3.34798476 3.42327084 3.49855692 3.57384301\n",
      " 3.64912909 3.72441517 3.79970126]\n"
     ]
    },
    {
     "data": {
      "image/png": "[encoded data removed]",
      "text/plain": [
       "<Figure size 432x288 with 1 Axes>"
      ]
     },
     "metadata": {
      "needs_background": "light"
     },
     "output_type": "display_data"
    }
   ],
   "source": [
    "# 直方图\n",
    "import numpy as np\n",
    "import matplotlib.pyplot as plt\n",
    "\n",
    "mu, sigma = 2, 0.5\n",
    "v = np.random.normal(mu, sigma, 10000)\n",
    "plt.hist(v, bins=500, density=1)\n",
    "plt.show()\n",
    "\n",
    "\n",
    "# Compute the histogram with numpy and then plot it\n",
    "(n, bins) = np.histogram(v, bins=50, density=True)  # NumPy version (no plot)\n",
    "print(n)\n",
    "print(bins)\n",
    "plt.plot(.5*(bins[1:]+bins[:-1]), n)\n",
    "plt.show()"
   ]
  },
  {
   "cell_type": "code",
   "execution_count": 9,
   "metadata": {},
   "outputs": [
    {
     "name": "stdout",
     "output_type": "stream",
     "text": [
      "[5 5 5 5 5]\n"
     ]
    }
   ],
   "source": [
    "print(np.array([5]*5))"
   ]
  },
  {
   "cell_type": "code",
   "execution_count": null,
   "metadata": {},
   "outputs": [],
   "source": []
  }
 ],
 "metadata": {
  "kernelspec": {
   "display_name": "Python 3",
   "language": "python",
   "name": "python3"
  },
  "language_info": {
   "codemirror_mode": {
    "name": "ipython",
    "version": 3
   },
   "file_extension": ".py",
   "mimetype": "text/x-python",
   "name": "python",
   "nbconvert_exporter": "python",
   "pygments_lexer": "ipython3",
   "version": "3.8.3"
  }
 },
 "nbformat": 4,
 "nbformat_minor": 4
}
